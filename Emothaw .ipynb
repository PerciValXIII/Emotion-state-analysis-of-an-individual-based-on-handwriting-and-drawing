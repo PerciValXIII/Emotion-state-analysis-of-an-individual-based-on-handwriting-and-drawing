{
 "cells": [
  {
   "cell_type": "code",
   "execution_count": 1,
   "metadata": {},
   "outputs": [
    {
     "name": "stderr",
     "output_type": "stream",
     "text": [
      "C:\\Users\\Swattik\\AppData\\Local\\Continuum\\anaconda3\\lib\\site-packages\\statsmodels\\tools\\_testing.py:19: FutureWarning: pandas.util.testing is deprecated. Use the functions in the public API at pandas.testing instead.\n",
      "  import pandas.util.testing as tm\n"
     ]
    }
   ],
   "source": [
    "#import libraries\n",
    "import pandas as pd\n",
    "import numpy as np\n",
    "from sklearn import preprocessing\n",
    "import seaborn as sb\n",
    "import matplotlib.pyplot as plt"
   ]
  },
  {
   "cell_type": "code",
   "execution_count": 97,
   "metadata": {},
   "outputs": [
    {
     "data": {
      "text/html": [
       "<div>\n",
       "<style scoped>\n",
       "    .dataframe tbody tr th:only-of-type {\n",
       "        vertical-align: middle;\n",
       "    }\n",
       "\n",
       "    .dataframe tbody tr th {\n",
       "        vertical-align: top;\n",
       "    }\n",
       "\n",
       "    .dataframe thead th {\n",
       "        text-align: right;\n",
       "    }\n",
       "</style>\n",
       "<table border=\"1\" class=\"dataframe\">\n",
       "  <thead>\n",
       "    <tr style=\"text-align: right;\">\n",
       "      <th></th>\n",
       "      <th>Subject</th>\n",
       "      <th>On Paper Duration (pentagons)</th>\n",
       "      <th>On paper Duration (house)</th>\n",
       "      <th>total duration (clock)</th>\n",
       "      <th>total duration (cursive)</th>\n",
       "      <th>number of pen-down strokes (cursive)</th>\n",
       "      <th>Pressure average (cursive)</th>\n",
       "      <th>DASS Scores</th>\n",
       "      <th>Stress</th>\n",
       "    </tr>\n",
       "  </thead>\n",
       "  <tbody>\n",
       "    <tr>\n",
       "      <th>0</th>\n",
       "      <td>1</td>\n",
       "      <td>7107</td>\n",
       "      <td>11023</td>\n",
       "      <td>21398</td>\n",
       "      <td>23531</td>\n",
       "      <td>33</td>\n",
       "      <td>297.587270</td>\n",
       "      <td>13</td>\n",
       "      <td>Normal</td>\n",
       "    </tr>\n",
       "    <tr>\n",
       "      <th>1</th>\n",
       "      <td>3</td>\n",
       "      <td>10152</td>\n",
       "      <td>14305</td>\n",
       "      <td>39205</td>\n",
       "      <td>26279</td>\n",
       "      <td>42</td>\n",
       "      <td>348.658005</td>\n",
       "      <td>21</td>\n",
       "      <td>Moderate</td>\n",
       "    </tr>\n",
       "    <tr>\n",
       "      <th>2</th>\n",
       "      <td>4</td>\n",
       "      <td>7350</td>\n",
       "      <td>10920</td>\n",
       "      <td>22215</td>\n",
       "      <td>25618</td>\n",
       "      <td>39</td>\n",
       "      <td>97.101751</td>\n",
       "      <td>17</td>\n",
       "      <td>Moderate</td>\n",
       "    </tr>\n",
       "    <tr>\n",
       "      <th>3</th>\n",
       "      <td>6</td>\n",
       "      <td>11236</td>\n",
       "      <td>9118</td>\n",
       "      <td>44864</td>\n",
       "      <td>23274</td>\n",
       "      <td>34</td>\n",
       "      <td>431.931921</td>\n",
       "      <td>17</td>\n",
       "      <td>Moderate</td>\n",
       "    </tr>\n",
       "    <tr>\n",
       "      <th>4</th>\n",
       "      <td>33</td>\n",
       "      <td>13971</td>\n",
       "      <td>19535</td>\n",
       "      <td>69047</td>\n",
       "      <td>30511</td>\n",
       "      <td>45</td>\n",
       "      <td>415.328375</td>\n",
       "      <td>27</td>\n",
       "      <td>Severe</td>\n",
       "    </tr>\n",
       "    <tr>\n",
       "      <th>5</th>\n",
       "      <td>34</td>\n",
       "      <td>9787</td>\n",
       "      <td>21296</td>\n",
       "      <td>36034</td>\n",
       "      <td>31219</td>\n",
       "      <td>41</td>\n",
       "      <td>229.998456</td>\n",
       "      <td>25</td>\n",
       "      <td>Moderate</td>\n",
       "    </tr>\n",
       "    <tr>\n",
       "      <th>6</th>\n",
       "      <td>47</td>\n",
       "      <td>15017</td>\n",
       "      <td>16775</td>\n",
       "      <td>34059</td>\n",
       "      <td>27007</td>\n",
       "      <td>44</td>\n",
       "      <td>299.951981</td>\n",
       "      <td>32</td>\n",
       "      <td>Severe</td>\n",
       "    </tr>\n",
       "    <tr>\n",
       "      <th>7</th>\n",
       "      <td>81</td>\n",
       "      <td>8485</td>\n",
       "      <td>21084</td>\n",
       "      <td>31387</td>\n",
       "      <td>27031</td>\n",
       "      <td>38</td>\n",
       "      <td>146.316250</td>\n",
       "      <td>35</td>\n",
       "      <td>Severe</td>\n",
       "    </tr>\n",
       "    <tr>\n",
       "      <th>8</th>\n",
       "      <td>93</td>\n",
       "      <td>9240</td>\n",
       "      <td>12393</td>\n",
       "      <td>24701</td>\n",
       "      <td>24720</td>\n",
       "      <td>42</td>\n",
       "      <td>283.699450</td>\n",
       "      <td>25</td>\n",
       "      <td>Moderate</td>\n",
       "    </tr>\n",
       "    <tr>\n",
       "      <th>9</th>\n",
       "      <td>125</td>\n",
       "      <td>3872</td>\n",
       "      <td>7800</td>\n",
       "      <td>58595</td>\n",
       "      <td>30735</td>\n",
       "      <td>52</td>\n",
       "      <td>230.202721</td>\n",
       "      <td>15</td>\n",
       "      <td>Normal</td>\n",
       "    </tr>\n",
       "  </tbody>\n",
       "</table>\n",
       "</div>"
      ],
      "text/plain": [
       "   Subject  On Paper Duration (pentagons)  On paper Duration (house)  \\\n",
       "0        1                           7107                      11023   \n",
       "1        3                          10152                      14305   \n",
       "2        4                           7350                      10920   \n",
       "3        6                          11236                       9118   \n",
       "4       33                          13971                      19535   \n",
       "5       34                           9787                      21296   \n",
       "6       47                          15017                      16775   \n",
       "7       81                           8485                      21084   \n",
       "8       93                           9240                      12393   \n",
       "9      125                           3872                       7800   \n",
       "\n",
       "   total duration (clock)  total duration (cursive)  \\\n",
       "0                   21398                     23531   \n",
       "1                   39205                     26279   \n",
       "2                   22215                     25618   \n",
       "3                   44864                     23274   \n",
       "4                   69047                     30511   \n",
       "5                   36034                     31219   \n",
       "6                   34059                     27007   \n",
       "7                   31387                     27031   \n",
       "8                   24701                     24720   \n",
       "9                   58595                     30735   \n",
       "\n",
       "   number of pen-down strokes (cursive)  Pressure average (cursive)  \\\n",
       "0                                    33                  297.587270   \n",
       "1                                    42                  348.658005   \n",
       "2                                    39                   97.101751   \n",
       "3                                    34                  431.931921   \n",
       "4                                    45                  415.328375   \n",
       "5                                    41                  229.998456   \n",
       "6                                    44                  299.951981   \n",
       "7                                    38                  146.316250   \n",
       "8                                    42                  283.699450   \n",
       "9                                    52                  230.202721   \n",
       "\n",
       "   DASS Scores    Stress  \n",
       "0           13    Normal  \n",
       "1           21  Moderate  \n",
       "2           17  Moderate  \n",
       "3           17  Moderate  \n",
       "4           27    Severe  \n",
       "5           25  Moderate  \n",
       "6           32    Severe  \n",
       "7           35    Severe  \n",
       "8           25  Moderate  \n",
       "9           15    Normal  "
      ]
     },
     "execution_count": 97,
     "metadata": {},
     "output_type": "execute_result"
    }
   ],
   "source": [
    "data = pd.read_csv(\"final_ds2.csv\")\n",
    "data"
   ]
  },
  {
   "cell_type": "code",
   "execution_count": 98,
   "metadata": {},
   "outputs": [],
   "source": [
    "data = data.drop('Subject',axis = 1)\n",
    "data = data.drop('Pressure average (cursive)',axis = 1)\n"
   ]
  },
  {
   "cell_type": "markdown",
   "metadata": {},
   "source": [
    "## Feature Engineering "
   ]
  },
  {
   "cell_type": "code",
   "execution_count": 99,
   "metadata": {},
   "outputs": [
    {
     "name": "stdout",
     "output_type": "stream",
     "text": [
      "<class 'pandas.core.frame.DataFrame'>\n",
      "RangeIndex: 10 entries, 0 to 9\n",
      "Data columns (total 7 columns):\n",
      " #   Column                                Non-Null Count  Dtype \n",
      "---  ------                                --------------  ----- \n",
      " 0   On Paper Duration (pentagons)         10 non-null     int64 \n",
      " 1   On paper Duration (house)             10 non-null     int64 \n",
      " 2   total duration (clock)                10 non-null     int64 \n",
      " 3   total duration (cursive)              10 non-null     int64 \n",
      " 4   number of pen-down strokes (cursive)  10 non-null     int64 \n",
      " 5   DASS Scores                           10 non-null     int64 \n",
      " 6   Stress                                10 non-null     object\n",
      "dtypes: int64(6), object(1)\n",
      "memory usage: 688.0+ bytes\n"
     ]
    }
   ],
   "source": [
    "data.info()"
   ]
  },
  {
   "cell_type": "code",
   "execution_count": 100,
   "metadata": {},
   "outputs": [
    {
     "data": {
      "text/plain": [
       "<matplotlib.axes._subplots.AxesSubplot at 0x1d26cce64c8>"
      ]
     },
     "execution_count": 100,
     "metadata": {},
     "output_type": "execute_result"
    },
    {
     "data": {
      "image/png": "[encoded data removed]",
      "text/plain": [
       "<Figure size 720x720 with 2 Axes>"
      ]
     },
     "metadata": {
      "needs_background": "light"
     },
     "output_type": "display_data"
    }
   ],
   "source": [
    "corr = data.corr()\n",
    "f,axes = plt.subplots(1,1,figsize = (10,10))\n",
    "sb.heatmap(corr,square=True,annot = True,linewidth = .5,center = 1.4,ax = axes)"
   ]
  },
  {
   "cell_type": "code",
   "execution_count": 101,
   "metadata": {},
   "outputs": [],
   "source": [
    "data = data.drop('DASS Scores',axis = 1)"
   ]
  },
  {
   "cell_type": "code",
   "execution_count": 102,
   "metadata": {},
   "outputs": [
    {
     "data": {
      "text/html": [
       "<div>\n",
       "<style scoped>\n",
       "    .dataframe tbody tr th:only-of-type {\n",
       "        vertical-align: middle;\n",
       "    }\n",
       "\n",
       "    .dataframe tbody tr th {\n",
       "        vertical-align: top;\n",
       "    }\n",
       "\n",
       "    .dataframe thead th {\n",
       "        text-align: right;\n",
       "    }\n",
       "</style>\n",
       "<table border=\"1\" class=\"dataframe\">\n",
       "  <thead>\n",
       "    <tr style=\"text-align: right;\">\n",
       "      <th></th>\n",
       "      <th>On Paper Duration (pentagons)</th>\n",
       "      <th>On paper Duration (house)</th>\n",
       "      <th>total duration (clock)</th>\n",
       "      <th>total duration (cursive)</th>\n",
       "      <th>number of pen-down strokes (cursive)</th>\n",
       "      <th>Stress</th>\n",
       "    </tr>\n",
       "  </thead>\n",
       "  <tbody>\n",
       "    <tr>\n",
       "      <th>0</th>\n",
       "      <td>7107</td>\n",
       "      <td>11023</td>\n",
       "      <td>21398</td>\n",
       "      <td>23531</td>\n",
       "      <td>33</td>\n",
       "      <td>1</td>\n",
       "    </tr>\n",
       "    <tr>\n",
       "      <th>1</th>\n",
       "      <td>10152</td>\n",
       "      <td>14305</td>\n",
       "      <td>39205</td>\n",
       "      <td>26279</td>\n",
       "      <td>42</td>\n",
       "      <td>2</td>\n",
       "    </tr>\n",
       "    <tr>\n",
       "      <th>2</th>\n",
       "      <td>7350</td>\n",
       "      <td>10920</td>\n",
       "      <td>22215</td>\n",
       "      <td>25618</td>\n",
       "      <td>39</td>\n",
       "      <td>2</td>\n",
       "    </tr>\n",
       "    <tr>\n",
       "      <th>3</th>\n",
       "      <td>11236</td>\n",
       "      <td>9118</td>\n",
       "      <td>44864</td>\n",
       "      <td>23274</td>\n",
       "      <td>34</td>\n",
       "      <td>2</td>\n",
       "    </tr>\n",
       "    <tr>\n",
       "      <th>4</th>\n",
       "      <td>13971</td>\n",
       "      <td>19535</td>\n",
       "      <td>69047</td>\n",
       "      <td>30511</td>\n",
       "      <td>45</td>\n",
       "      <td>3</td>\n",
       "    </tr>\n",
       "    <tr>\n",
       "      <th>5</th>\n",
       "      <td>9787</td>\n",
       "      <td>21296</td>\n",
       "      <td>36034</td>\n",
       "      <td>31219</td>\n",
       "      <td>41</td>\n",
       "      <td>2</td>\n",
       "    </tr>\n",
       "    <tr>\n",
       "      <th>6</th>\n",
       "      <td>15017</td>\n",
       "      <td>16775</td>\n",
       "      <td>34059</td>\n",
       "      <td>27007</td>\n",
       "      <td>44</td>\n",
       "      <td>3</td>\n",
       "    </tr>\n",
       "    <tr>\n",
       "      <th>7</th>\n",
       "      <td>8485</td>\n",
       "      <td>21084</td>\n",
       "      <td>31387</td>\n",
       "      <td>27031</td>\n",
       "      <td>38</td>\n",
       "      <td>3</td>\n",
       "    </tr>\n",
       "    <tr>\n",
       "      <th>8</th>\n",
       "      <td>9240</td>\n",
       "      <td>12393</td>\n",
       "      <td>24701</td>\n",
       "      <td>24720</td>\n",
       "      <td>42</td>\n",
       "      <td>2</td>\n",
       "    </tr>\n",
       "    <tr>\n",
       "      <th>9</th>\n",
       "      <td>3872</td>\n",
       "      <td>7800</td>\n",
       "      <td>58595</td>\n",
       "      <td>30735</td>\n",
       "      <td>52</td>\n",
       "      <td>1</td>\n",
       "    </tr>\n",
       "  </tbody>\n",
       "</table>\n",
       "</div>"
      ],
      "text/plain": [
       "   On Paper Duration (pentagons)  On paper Duration (house)  \\\n",
       "0                           7107                      11023   \n",
       "1                          10152                      14305   \n",
       "2                           7350                      10920   \n",
       "3                          11236                       9118   \n",
       "4                          13971                      19535   \n",
       "5                           9787                      21296   \n",
       "6                          15017                      16775   \n",
       "7                           8485                      21084   \n",
       "8                           9240                      12393   \n",
       "9                           3872                       7800   \n",
       "\n",
       "   total duration (clock)  total duration (cursive)  \\\n",
       "0                   21398                     23531   \n",
       "1                   39205                     26279   \n",
       "2                   22215                     25618   \n",
       "3                   44864                     23274   \n",
       "4                   69047                     30511   \n",
       "5                   36034                     31219   \n",
       "6                   34059                     27007   \n",
       "7                   31387                     27031   \n",
       "8                   24701                     24720   \n",
       "9                   58595                     30735   \n",
       "\n",
       "   number of pen-down strokes (cursive) Stress  \n",
       "0                                    33      1  \n",
       "1                                    42      2  \n",
       "2                                    39      2  \n",
       "3                                    34      2  \n",
       "4                                    45      3  \n",
       "5                                    41      2  \n",
       "6                                    44      3  \n",
       "7                                    38      3  \n",
       "8                                    42      2  \n",
       "9                                    52      1  "
      ]
     },
     "execution_count": 102,
     "metadata": {},
     "output_type": "execute_result"
    }
   ],
   "source": [
    "#Label Encoding\n",
    "data['Stress'] = data['Stress'].replace({'Normal':'1','Moderate':'2', 'Severe':'3'})\n",
    "data"
   ]
  },
  {
   "cell_type": "code",
   "execution_count": 8,
   "metadata": {},
   "outputs": [
    {
     "data": {
      "text/plain": [
       "0    1\n",
       "1    2\n",
       "2    2\n",
       "3    2\n",
       "4    3\n",
       "5    2\n",
       "6    3\n",
       "7    3\n",
       "8    2\n",
       "9    1\n",
       "Name: Stress, dtype: object"
      ]
     },
     "execution_count": 8,
     "metadata": {},
     "output_type": "execute_result"
    }
   ],
   "source": [
    "y = data[\"Stress\"]\n",
    "y"
   ]
  },
  {
   "cell_type": "code",
   "execution_count": 9,
   "metadata": {},
   "outputs": [
    {
     "data": {
      "text/html": [
       "<div>\n",
       "<style scoped>\n",
       "    .dataframe tbody tr th:only-of-type {\n",
       "        vertical-align: middle;\n",
       "    }\n",
       "\n",
       "    .dataframe tbody tr th {\n",
       "        vertical-align: top;\n",
       "    }\n",
       "\n",
       "    .dataframe thead th {\n",
       "        text-align: right;\n",
       "    }\n",
       "</style>\n",
       "<table border=\"1\" class=\"dataframe\">\n",
       "  <thead>\n",
       "    <tr style=\"text-align: right;\">\n",
       "      <th></th>\n",
       "      <th>On Paper Duration (pentagons)</th>\n",
       "      <th>On paper Duration (house)</th>\n",
       "      <th>total duration (clock)</th>\n",
       "      <th>total duration (cursive)</th>\n",
       "      <th>number of pen-down strokes (cursive)</th>\n",
       "    </tr>\n",
       "  </thead>\n",
       "  <tbody>\n",
       "    <tr>\n",
       "      <th>0</th>\n",
       "      <td>7107</td>\n",
       "      <td>11023</td>\n",
       "      <td>21398</td>\n",
       "      <td>23531</td>\n",
       "      <td>33</td>\n",
       "    </tr>\n",
       "    <tr>\n",
       "      <th>1</th>\n",
       "      <td>10152</td>\n",
       "      <td>14305</td>\n",
       "      <td>39205</td>\n",
       "      <td>26279</td>\n",
       "      <td>42</td>\n",
       "    </tr>\n",
       "    <tr>\n",
       "      <th>2</th>\n",
       "      <td>7350</td>\n",
       "      <td>10920</td>\n",
       "      <td>22215</td>\n",
       "      <td>25618</td>\n",
       "      <td>39</td>\n",
       "    </tr>\n",
       "    <tr>\n",
       "      <th>3</th>\n",
       "      <td>11236</td>\n",
       "      <td>9118</td>\n",
       "      <td>44864</td>\n",
       "      <td>23274</td>\n",
       "      <td>34</td>\n",
       "    </tr>\n",
       "    <tr>\n",
       "      <th>4</th>\n",
       "      <td>13971</td>\n",
       "      <td>19535</td>\n",
       "      <td>69047</td>\n",
       "      <td>30511</td>\n",
       "      <td>45</td>\n",
       "    </tr>\n",
       "    <tr>\n",
       "      <th>5</th>\n",
       "      <td>9787</td>\n",
       "      <td>21296</td>\n",
       "      <td>36034</td>\n",
       "      <td>31219</td>\n",
       "      <td>41</td>\n",
       "    </tr>\n",
       "    <tr>\n",
       "      <th>6</th>\n",
       "      <td>15017</td>\n",
       "      <td>16775</td>\n",
       "      <td>34059</td>\n",
       "      <td>27007</td>\n",
       "      <td>44</td>\n",
       "    </tr>\n",
       "    <tr>\n",
       "      <th>7</th>\n",
       "      <td>8485</td>\n",
       "      <td>21084</td>\n",
       "      <td>31387</td>\n",
       "      <td>27031</td>\n",
       "      <td>38</td>\n",
       "    </tr>\n",
       "    <tr>\n",
       "      <th>8</th>\n",
       "      <td>9240</td>\n",
       "      <td>12393</td>\n",
       "      <td>24701</td>\n",
       "      <td>24720</td>\n",
       "      <td>42</td>\n",
       "    </tr>\n",
       "    <tr>\n",
       "      <th>9</th>\n",
       "      <td>3872</td>\n",
       "      <td>7800</td>\n",
       "      <td>58595</td>\n",
       "      <td>30735</td>\n",
       "      <td>52</td>\n",
       "    </tr>\n",
       "  </tbody>\n",
       "</table>\n",
       "</div>"
      ],
      "text/plain": [
       "   On Paper Duration (pentagons)  On paper Duration (house)  \\\n",
       "0                           7107                      11023   \n",
       "1                          10152                      14305   \n",
       "2                           7350                      10920   \n",
       "3                          11236                       9118   \n",
       "4                          13971                      19535   \n",
       "5                           9787                      21296   \n",
       "6                          15017                      16775   \n",
       "7                           8485                      21084   \n",
       "8                           9240                      12393   \n",
       "9                           3872                       7800   \n",
       "\n",
       "   total duration (clock)  total duration (cursive)  \\\n",
       "0                   21398                     23531   \n",
       "1                   39205                     26279   \n",
       "2                   22215                     25618   \n",
       "3                   44864                     23274   \n",
       "4                   69047                     30511   \n",
       "5                   36034                     31219   \n",
       "6                   34059                     27007   \n",
       "7                   31387                     27031   \n",
       "8                   24701                     24720   \n",
       "9                   58595                     30735   \n",
       "\n",
       "   number of pen-down strokes (cursive)  \n",
       "0                                    33  \n",
       "1                                    42  \n",
       "2                                    39  \n",
       "3                                    34  \n",
       "4                                    45  \n",
       "5                                    41  \n",
       "6                                    44  \n",
       "7                                    38  \n",
       "8                                    42  \n",
       "9                                    52  "
      ]
     },
     "execution_count": 9,
     "metadata": {},
     "output_type": "execute_result"
    }
   ],
   "source": [
    "X = data.drop('Stress',axis = 1)\n",
    "X"
   ]
  },
  {
   "cell_type": "code",
   "execution_count": 10,
   "metadata": {},
   "outputs": [],
   "source": [
    "# Scaling\n",
    "scaler = preprocessing.StandardScaler().fit(X)\n",
    "X = scaler.transform(X)"
   ]
  },
  {
   "cell_type": "code",
   "execution_count": 11,
   "metadata": {},
   "outputs": [
    {
     "data": {
      "text/html": [
       "<div>\n",
       "<style scoped>\n",
       "    .dataframe tbody tr th:only-of-type {\n",
       "        vertical-align: middle;\n",
       "    }\n",
       "\n",
       "    .dataframe tbody tr th {\n",
       "        vertical-align: top;\n",
       "    }\n",
       "\n",
       "    .dataframe thead th {\n",
       "        text-align: right;\n",
       "    }\n",
       "</style>\n",
       "<table border=\"1\" class=\"dataframe\">\n",
       "  <thead>\n",
       "    <tr style=\"text-align: right;\">\n",
       "      <th></th>\n",
       "      <th>0</th>\n",
       "      <th>1</th>\n",
       "      <th>2</th>\n",
       "      <th>3</th>\n",
       "      <th>4</th>\n",
       "    </tr>\n",
       "  </thead>\n",
       "  <tbody>\n",
       "    <tr>\n",
       "      <th>0</th>\n",
       "      <td>-0.807749</td>\n",
       "      <td>-0.719998</td>\n",
       "      <td>-1.129147</td>\n",
       "      <td>-1.242422</td>\n",
       "      <td>-1.528321</td>\n",
       "    </tr>\n",
       "    <tr>\n",
       "      <th>1</th>\n",
       "      <td>0.170338</td>\n",
       "      <td>-0.025376</td>\n",
       "      <td>0.071075</td>\n",
       "      <td>-0.256094</td>\n",
       "      <td>0.191040</td>\n",
       "    </tr>\n",
       "    <tr>\n",
       "      <th>2</th>\n",
       "      <td>-0.729695</td>\n",
       "      <td>-0.741797</td>\n",
       "      <td>-1.074080</td>\n",
       "      <td>-0.493344</td>\n",
       "      <td>-0.382080</td>\n",
       "    </tr>\n",
       "    <tr>\n",
       "      <th>3</th>\n",
       "      <td>0.518531</td>\n",
       "      <td>-1.123183</td>\n",
       "      <td>0.452501</td>\n",
       "      <td>-1.334666</td>\n",
       "      <td>-1.337281</td>\n",
       "    </tr>\n",
       "    <tr>\n",
       "      <th>4</th>\n",
       "      <td>1.397043</td>\n",
       "      <td>1.081531</td>\n",
       "      <td>2.082476</td>\n",
       "      <td>1.262881</td>\n",
       "      <td>0.764161</td>\n",
       "    </tr>\n",
       "    <tr>\n",
       "      <th>5</th>\n",
       "      <td>0.053096</td>\n",
       "      <td>1.454239</td>\n",
       "      <td>-0.142656</td>\n",
       "      <td>1.517001</td>\n",
       "      <td>0.000000</td>\n",
       "    </tr>\n",
       "    <tr>\n",
       "      <th>6</th>\n",
       "      <td>1.733029</td>\n",
       "      <td>0.497389</td>\n",
       "      <td>-0.275774</td>\n",
       "      <td>0.005204</td>\n",
       "      <td>0.573121</td>\n",
       "    </tr>\n",
       "    <tr>\n",
       "      <th>7</th>\n",
       "      <td>-0.365120</td>\n",
       "      <td>1.409371</td>\n",
       "      <td>-0.455871</td>\n",
       "      <td>0.013819</td>\n",
       "      <td>-0.573121</td>\n",
       "    </tr>\n",
       "    <tr>\n",
       "      <th>8</th>\n",
       "      <td>-0.122606</td>\n",
       "      <td>-0.430043</td>\n",
       "      <td>-0.906519</td>\n",
       "      <td>-0.815659</td>\n",
       "      <td>0.191040</td>\n",
       "    </tr>\n",
       "    <tr>\n",
       "      <th>9</th>\n",
       "      <td>-1.846866</td>\n",
       "      <td>-1.402132</td>\n",
       "      <td>1.377994</td>\n",
       "      <td>1.343281</td>\n",
       "      <td>2.101442</td>\n",
       "    </tr>\n",
       "  </tbody>\n",
       "</table>\n",
       "</div>"
      ],
      "text/plain": [
       "          0         1         2         3         4\n",
       "0 -0.807749 -0.719998 -1.129147 -1.242422 -1.528321\n",
       "1  0.170338 -0.025376  0.071075 -0.256094  0.191040\n",
       "2 -0.729695 -0.741797 -1.074080 -0.493344 -0.382080\n",
       "3  0.518531 -1.123183  0.452501 -1.334666 -1.337281\n",
       "4  1.397043  1.081531  2.082476  1.262881  0.764161\n",
       "5  0.053096  1.454239 -0.142656  1.517001  0.000000\n",
       "6  1.733029  0.497389 -0.275774  0.005204  0.573121\n",
       "7 -0.365120  1.409371 -0.455871  0.013819 -0.573121\n",
       "8 -0.122606 -0.430043 -0.906519 -0.815659  0.191040\n",
       "9 -1.846866 -1.402132  1.377994  1.343281  2.101442"
      ]
     },
     "execution_count": 11,
     "metadata": {},
     "output_type": "execute_result"
    }
   ],
   "source": [
    "X=pd.DataFrame(X)\n",
    "X"
   ]
  },
  {
   "cell_type": "markdown",
   "metadata": {},
   "source": [
    "## Model Training"
   ]
  },
  {
   "cell_type": "code",
   "execution_count": 87,
   "metadata": {},
   "outputs": [],
   "source": [
    "from sklearn.model_selection import train_test_split\n",
    "x_train,x_test,y_train,y_test=train_test_split(X,y,test_size=0.3)"
   ]
  },
  {
   "cell_type": "code",
   "execution_count": 88,
   "metadata": {},
   "outputs": [
    {
     "data": {
      "text/plain": [
       "4    3\n",
       "2    2\n",
       "3    2\n",
       "Name: Stress, dtype: object"
      ]
     },
     "execution_count": 88,
     "metadata": {},
     "output_type": "execute_result"
    }
   ],
   "source": [
    "y_test"
   ]
  },
  {
   "cell_type": "code",
   "execution_count": 91,
   "metadata": {},
   "outputs": [],
   "source": [
    "#Import Random Forest Model\n",
    "from sklearn.ensemble import RandomForestClassifier\n",
    "\n",
    "#Create a Gaussian Classifier\n",
    "clf=RandomForestClassifier(n_estimators=100)\n",
    "\n",
    "\n",
    "clf.fit(x_train,y_train)\n",
    "\n",
    "y_pred_rfc=clf.predict(x_test)"
   ]
  },
  {
   "cell_type": "code",
   "execution_count": 92,
   "metadata": {},
   "outputs": [
    {
     "data": {
      "text/plain": [
       "array(['3', '1', '2'], dtype=object)"
      ]
     },
     "execution_count": 92,
     "metadata": {},
     "output_type": "execute_result"
    }
   ],
   "source": [
    "y_pred_rfc"
   ]
  },
  {
   "cell_type": "code",
   "execution_count": 93,
   "metadata": {},
   "outputs": [
    {
     "name": "stdout",
     "output_type": "stream",
     "text": [
      "Accuracy using RFC: 0.6666666666666666\n"
     ]
    }
   ],
   "source": [
    "from sklearn import metrics\n",
    "print(\"Accuracy using RFC:\",metrics.accuracy_score(y_test, y_pred_rfc))"
   ]
  },
  {
   "cell_type": "code",
   "execution_count": 94,
   "metadata": {},
   "outputs": [],
   "source": [
    "from sklearn.neural_network import MLPClassifier\n",
    "\n",
    "mlp = MLPClassifier(hidden_layer_sizes=(10,10,10), activation='relu', solver='adam', max_iter=500)\n",
    "mlp.fit(x_train,y_train)\n",
    "\n",
    "y_pred_mlp=mlp.predict(x_test)"
   ]
  },
  {
   "cell_type": "code",
   "execution_count": 95,
   "metadata": {},
   "outputs": [
    {
     "data": {
      "text/plain": [
       "array(['3', '2', '1'], dtype='<U1')"
      ]
     },
     "execution_count": 95,
     "metadata": {},
     "output_type": "execute_result"
    }
   ],
   "source": [
    "y_pred_mlp"
   ]
  },
  {
   "cell_type": "code",
   "execution_count": 96,
   "metadata": {},
   "outputs": [
    {
     "name": "stdout",
     "output_type": "stream",
     "text": [
      "Accuracy using MLP: 0.6666666666666666\n"
     ]
    }
   ],
   "source": [
    "\n",
    "print(\"Accuracy using MLP:\",metrics.accuracy_score(y_test, y_pred_mlp))"
   ]
  },
  {
   "cell_type": "code",
   "execution_count": null,
   "metadata": {},
   "outputs": [],
   "source": []
  },
  {
   "cell_type": "code",
   "execution_count": null,
   "metadata": {},
   "outputs": [],
   "source": []
  },
  {
   "cell_type": "code",
   "execution_count": null,
   "metadata": {},
   "outputs": [],
   "source": []
  }
 ],
 "metadata": {
  "kernelspec": {
   "display_name": "Python 3",
   "language": "python",
   "name": "python3"
  },
  "language_info": {
   "codemirror_mode": {
    "name": "ipython",
    "version": 3
   },
   "file_extension": ".py",
   "mimetype": "text/x-python",
   "name": "python",
   "nbconvert_exporter": "python",
   "pygments_lexer": "ipython3",
   "version": "3.7.4"
  }
 },
 "nbformat": 4,
 "nbformat_minor": 2
}
